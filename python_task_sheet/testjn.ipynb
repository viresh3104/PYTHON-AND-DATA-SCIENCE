{
 "cells": [
  {
   "cell_type": "code",
   "execution_count": 5,
   "metadata": {},
   "outputs": [
    {
     "name": "stdout",
     "output_type": "stream",
     "text": [
      "The simple rest is:: 4800.0\n"
     ]
    }
   ],
   "source": [
    "# Write a Python program to calculate the simple rest given the principal, rate, and time.\n",
    "def simple_es(p , r , n):\n",
    "    return ((p * r * n)/100)\n",
    "\n",
    "p = float(input(\"Enter the principle amout:::\"))\n",
    "r = float(input(\"Enter the rate of rest:::\"))\n",
    "n = float(input(\"Enter the time period:::\"))\n",
    "print(\"The simple rest is::\",simple_es(p , r , n))"
   ]
  },
  {
   "cell_type": "code",
   "execution_count": 12,
   "metadata": {},
   "outputs": [
    {
     "ename": "TypeError",
     "evalue": "'int' object is not callable",
     "output_type": "error",
     "traceback": [
      "\u001b[0;31m---------------------------------------------------------------------------\u001b[0m",
      "\u001b[0;31mTypeError\u001b[0m                                 Traceback (most recent call last)",
      "Cell \u001b[0;32mIn[12], line 7\u001b[0m\n\u001b[1;32m      4\u001b[0m     seco \u001b[38;5;241m=\u001b[39m (\u001b[38;5;28minput\u001b[39m \u001b[38;5;241m%\u001b[39m \u001b[38;5;241m3600\u001b[39m) \u001b[38;5;241m%\u001b[39m \u001b[38;5;241m60\u001b[39m\n\u001b[1;32m      5\u001b[0m     \u001b[38;5;28;01mreturn\u001b[39;00m hour, \u001b[38;5;28mmin\u001b[39m, seco\n\u001b[0;32m----> 7\u001b[0m \u001b[38;5;28minput\u001b[39m \u001b[38;5;241m=\u001b[39m \u001b[38;5;28mint\u001b[39m(\u001b[38;5;28;43minput\u001b[39;49m\u001b[43m(\u001b[49m\u001b[38;5;124;43m\"\u001b[39;49m\u001b[38;5;124;43mEnter the number of seconds: \u001b[39;49m\u001b[38;5;124;43m\"\u001b[39;49m\u001b[43m)\u001b[49m)\n\u001b[1;32m      8\u001b[0m x \u001b[38;5;241m=\u001b[39m coversion(\u001b[38;5;28minput\u001b[39m)\n\u001b[1;32m      9\u001b[0m \u001b[38;5;28mprint\u001b[39m(x[\u001b[38;5;241m0\u001b[39m] ,\u001b[38;5;124m\"\u001b[39m\u001b[38;5;124mhr:\u001b[39m\u001b[38;5;124m\"\u001b[39m, x[\u001b[38;5;241m1\u001b[39m] , \u001b[38;5;124m\"\u001b[39m\u001b[38;5;124mmin:\u001b[39m\u001b[38;5;124m\"\u001b[39m,x[\u001b[38;5;241m2\u001b[39m] ,\u001b[38;5;124m\"\u001b[39m\u001b[38;5;124msec\u001b[39m\u001b[38;5;124m\"\u001b[39m)\n",
      "\u001b[0;31mTypeError\u001b[0m: 'int' object is not callable"
     ]
    }
   ],
   "source": [
    "def coversion(input):\n",
    "    hour = input // 3600\n",
    "    min = (input % 3600) // 60\n",
    "    seco = (input % 3600) % 60\n",
    "    return hour, min, seco\n",
    "\n",
    "input = int(input(\"Enter the number of seconds: \"))\n",
    "x = coversion(input)\n",
    "print(x[0] ,\"hr:\", x[1] , \"min:\",x[2] ,\"sec\")"
   ]
  },
  {
   "cell_type": "code",
   "execution_count": 3,
   "metadata": {},
   "outputs": [
    {
     "name": "stdout",
     "output_type": "stream",
     "text": [
      "hello\n"
     ]
    }
   ],
   "source": [
    "print(\"hello\")"
   ]
  },
  {
   "cell_type": "code",
   "execution_count": 4,
   "metadata": {},
   "outputs": [
    {
     "name": "stdout",
     "output_type": "stream",
     "text": [
      "The simple rest is:: 50400.0\n"
     ]
    }
   ],
   "source": [
    "# Write a Python program to calculate the simple rest given the principal, rate, and time.\n",
    "def simple_es(p :float, r:float , n) -> float:\n",
    "    return (p * r * n) / 100\n",
    "\n",
    "p = float(input(\"Enter the principle amout:::\"))\n",
    "r = float(input(\"Enter the rate of rest:::\"))\n",
    "n = float(input(\"Enter the time period:::\"))\n",
    "print(\"The simple rest is::\",simple_es(p , r , n))"
   ]
  },
  {
   "cell_type": "code",
   "execution_count": null,
   "metadata": {},
   "outputs": [],
   "source": []
  }
 ],
 "metadata": {
  "kernelspec": {
   "display_name": "Python 3",
   "language": "python",
   "name": "python3"
  },
  "language_info": {
   "codemirror_mode": {
    "name": "ipython",
    "version": 3
   },
   "file_extension": ".py",
   "mimetype": "text/x-python",
   "name": "python",
   "nbconvert_exporter": "python",
   "pygments_lexer": "ipython3",
   "version": "3.10.12"
  }
 },
 "nbformat": 4,
 "nbformat_minor": 2
}
