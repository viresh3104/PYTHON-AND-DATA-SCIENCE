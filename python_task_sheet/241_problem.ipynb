{
 "cells": [
  {
   "cell_type": "code",
   "execution_count": 38,
   "metadata": {},
   "outputs": [
    {
     "data": {
      "text/html": [
       "<div>\n",
       "<style scoped>\n",
       "    .dataframe tbody tr th:only-of-type {\n",
       "        vertical-align: middle;\n",
       "    }\n",
       "\n",
       "    .dataframe tbody tr th {\n",
       "        vertical-align: top;\n",
       "    }\n",
       "\n",
       "    .dataframe thead th {\n",
       "        text-align: right;\n",
       "    }\n",
       "</style>\n",
       "<table border=\"1\" class=\"dataframe\">\n",
       "  <thead>\n",
       "    <tr style=\"text-align: right;\">\n",
       "      <th></th>\n",
       "      <th>Unnamed: 0</th>\n",
       "      <th>Order ID</th>\n",
       "      <th>Product</th>\n",
       "      <th>Quantity Ordered</th>\n",
       "      <th>Price Each</th>\n",
       "      <th>Order Date</th>\n",
       "      <th>Purchase Address</th>\n",
       "      <th>Month</th>\n",
       "      <th>Sales</th>\n",
       "      <th>City</th>\n",
       "      <th>Hour</th>\n",
       "    </tr>\n",
       "  </thead>\n",
       "  <tbody>\n",
       "    <tr>\n",
       "      <th>0</th>\n",
       "      <td>0</td>\n",
       "      <td>295665</td>\n",
       "      <td>Macbook Pro Laptop</td>\n",
       "      <td>1</td>\n",
       "      <td>1700.00</td>\n",
       "      <td>2019-12-30 00:01:00</td>\n",
       "      <td>136 Church St, New York City, NY 10001</td>\n",
       "      <td>12</td>\n",
       "      <td>1700.00</td>\n",
       "      <td>New York City</td>\n",
       "      <td>0</td>\n",
       "    </tr>\n",
       "    <tr>\n",
       "      <th>1</th>\n",
       "      <td>1</td>\n",
       "      <td>295666</td>\n",
       "      <td>LG Washing Machine</td>\n",
       "      <td>1</td>\n",
       "      <td>600.00</td>\n",
       "      <td>2019-12-29 07:03:00</td>\n",
       "      <td>562 2nd St, New York City, NY 10001</td>\n",
       "      <td>12</td>\n",
       "      <td>600.00</td>\n",
       "      <td>New York City</td>\n",
       "      <td>7</td>\n",
       "    </tr>\n",
       "    <tr>\n",
       "      <th>2</th>\n",
       "      <td>2</td>\n",
       "      <td>295667</td>\n",
       "      <td>USB-C Charging Cable</td>\n",
       "      <td>1</td>\n",
       "      <td>11.95</td>\n",
       "      <td>2019-12-12 18:21:00</td>\n",
       "      <td>277 Main St, New York City, NY 10001</td>\n",
       "      <td>12</td>\n",
       "      <td>11.95</td>\n",
       "      <td>New York City</td>\n",
       "      <td>18</td>\n",
       "    </tr>\n",
       "    <tr>\n",
       "      <th>3</th>\n",
       "      <td>3</td>\n",
       "      <td>295668</td>\n",
       "      <td>27in FHD Monitor</td>\n",
       "      <td>1</td>\n",
       "      <td>149.99</td>\n",
       "      <td>2019-12-22 15:13:00</td>\n",
       "      <td>410 6th St, San Francisco, CA 94016</td>\n",
       "      <td>12</td>\n",
       "      <td>149.99</td>\n",
       "      <td>San Francisco</td>\n",
       "      <td>15</td>\n",
       "    </tr>\n",
       "    <tr>\n",
       "      <th>4</th>\n",
       "      <td>4</td>\n",
       "      <td>295669</td>\n",
       "      <td>USB-C Charging Cable</td>\n",
       "      <td>1</td>\n",
       "      <td>11.95</td>\n",
       "      <td>2019-12-18 12:38:00</td>\n",
       "      <td>43 Hill St, Atlanta, GA 30301</td>\n",
       "      <td>12</td>\n",
       "      <td>11.95</td>\n",
       "      <td>Atlanta</td>\n",
       "      <td>12</td>\n",
       "    </tr>\n",
       "    <tr>\n",
       "      <th>...</th>\n",
       "      <td>...</td>\n",
       "      <td>...</td>\n",
       "      <td>...</td>\n",
       "      <td>...</td>\n",
       "      <td>...</td>\n",
       "      <td>...</td>\n",
       "      <td>...</td>\n",
       "      <td>...</td>\n",
       "      <td>...</td>\n",
       "      <td>...</td>\n",
       "      <td>...</td>\n",
       "    </tr>\n",
       "    <tr>\n",
       "      <th>185945</th>\n",
       "      <td>13617</td>\n",
       "      <td>222905</td>\n",
       "      <td>AAA Batteries (4-pack)</td>\n",
       "      <td>1</td>\n",
       "      <td>2.99</td>\n",
       "      <td>2019-06-07 19:02:00</td>\n",
       "      <td>795 Pine St, Boston, MA 02215</td>\n",
       "      <td>6</td>\n",
       "      <td>2.99</td>\n",
       "      <td>Boston</td>\n",
       "      <td>19</td>\n",
       "    </tr>\n",
       "    <tr>\n",
       "      <th>185946</th>\n",
       "      <td>13618</td>\n",
       "      <td>222906</td>\n",
       "      <td>27in FHD Monitor</td>\n",
       "      <td>1</td>\n",
       "      <td>149.99</td>\n",
       "      <td>2019-06-01 19:29:00</td>\n",
       "      <td>495 North St, New York City, NY 10001</td>\n",
       "      <td>6</td>\n",
       "      <td>149.99</td>\n",
       "      <td>New York City</td>\n",
       "      <td>19</td>\n",
       "    </tr>\n",
       "    <tr>\n",
       "      <th>185947</th>\n",
       "      <td>13619</td>\n",
       "      <td>222907</td>\n",
       "      <td>USB-C Charging Cable</td>\n",
       "      <td>1</td>\n",
       "      <td>11.95</td>\n",
       "      <td>2019-06-22 18:57:00</td>\n",
       "      <td>319 Ridge St, San Francisco, CA 94016</td>\n",
       "      <td>6</td>\n",
       "      <td>11.95</td>\n",
       "      <td>San Francisco</td>\n",
       "      <td>18</td>\n",
       "    </tr>\n",
       "    <tr>\n",
       "      <th>185948</th>\n",
       "      <td>13620</td>\n",
       "      <td>222908</td>\n",
       "      <td>USB-C Charging Cable</td>\n",
       "      <td>1</td>\n",
       "      <td>11.95</td>\n",
       "      <td>2019-06-26 18:35:00</td>\n",
       "      <td>916 Main St, San Francisco, CA 94016</td>\n",
       "      <td>6</td>\n",
       "      <td>11.95</td>\n",
       "      <td>San Francisco</td>\n",
       "      <td>18</td>\n",
       "    </tr>\n",
       "    <tr>\n",
       "      <th>185949</th>\n",
       "      <td>13621</td>\n",
       "      <td>222909</td>\n",
       "      <td>AAA Batteries (4-pack)</td>\n",
       "      <td>1</td>\n",
       "      <td>2.99</td>\n",
       "      <td>2019-06-25 14:33:00</td>\n",
       "      <td>209 11th St, Atlanta, GA 30301</td>\n",
       "      <td>6</td>\n",
       "      <td>2.99</td>\n",
       "      <td>Atlanta</td>\n",
       "      <td>14</td>\n",
       "    </tr>\n",
       "  </tbody>\n",
       "</table>\n",
       "<p>185950 rows × 11 columns</p>\n",
       "</div>"
      ],
      "text/plain": [
       "        Unnamed: 0  Order ID                 Product  Quantity Ordered  \\\n",
       "0                0    295665      Macbook Pro Laptop                 1   \n",
       "1                1    295666      LG Washing Machine                 1   \n",
       "2                2    295667    USB-C Charging Cable                 1   \n",
       "3                3    295668        27in FHD Monitor                 1   \n",
       "4                4    295669    USB-C Charging Cable                 1   \n",
       "...            ...       ...                     ...               ...   \n",
       "185945       13617    222905  AAA Batteries (4-pack)                 1   \n",
       "185946       13618    222906        27in FHD Monitor                 1   \n",
       "185947       13619    222907    USB-C Charging Cable                 1   \n",
       "185948       13620    222908    USB-C Charging Cable                 1   \n",
       "185949       13621    222909  AAA Batteries (4-pack)                 1   \n",
       "\n",
       "        Price Each           Order Date  \\\n",
       "0          1700.00  2019-12-30 00:01:00   \n",
       "1           600.00  2019-12-29 07:03:00   \n",
       "2            11.95  2019-12-12 18:21:00   \n",
       "3           149.99  2019-12-22 15:13:00   \n",
       "4            11.95  2019-12-18 12:38:00   \n",
       "...            ...                  ...   \n",
       "185945        2.99  2019-06-07 19:02:00   \n",
       "185946      149.99  2019-06-01 19:29:00   \n",
       "185947       11.95  2019-06-22 18:57:00   \n",
       "185948       11.95  2019-06-26 18:35:00   \n",
       "185949        2.99  2019-06-25 14:33:00   \n",
       "\n",
       "                              Purchase Address  Month    Sales  \\\n",
       "0       136 Church St, New York City, NY 10001     12  1700.00   \n",
       "1          562 2nd St, New York City, NY 10001     12   600.00   \n",
       "2         277 Main St, New York City, NY 10001     12    11.95   \n",
       "3          410 6th St, San Francisco, CA 94016     12   149.99   \n",
       "4                43 Hill St, Atlanta, GA 30301     12    11.95   \n",
       "...                                        ...    ...      ...   \n",
       "185945           795 Pine St, Boston, MA 02215      6     2.99   \n",
       "185946   495 North St, New York City, NY 10001      6   149.99   \n",
       "185947   319 Ridge St, San Francisco, CA 94016      6    11.95   \n",
       "185948    916 Main St, San Francisco, CA 94016      6    11.95   \n",
       "185949          209 11th St, Atlanta, GA 30301      6     2.99   \n",
       "\n",
       "                  City  Hour  \n",
       "0        New York City     0  \n",
       "1        New York City     7  \n",
       "2        New York City    18  \n",
       "3        San Francisco    15  \n",
       "4              Atlanta    12  \n",
       "...                ...   ...  \n",
       "185945          Boston    19  \n",
       "185946   New York City    19  \n",
       "185947   San Francisco    18  \n",
       "185948   San Francisco    18  \n",
       "185949         Atlanta    14  \n",
       "\n",
       "[185950 rows x 11 columns]"
      ]
     },
     "execution_count": 38,
     "metadata": {},
     "output_type": "execute_result"
    }
   ],
   "source": [
    "import pandas as pd\n",
    "import numpy as np\n",
    "df = pd.read_csv('Sales Data.csv')\n",
    "df\n"
   ]
  },
  {
   "cell_type": "code",
   "execution_count": 4,
   "metadata": {},
   "outputs": [
    {
     "data": {
      "text/plain": [
       "City\n",
       " Atlanta          2795498.58\n",
       " Austin           1819581.75\n",
       " Boston           3661642.01\n",
       " Dallas           2767975.40\n",
       " Los Angeles      5452570.80\n",
       " New York City    4664317.43\n",
       " Portland         2320490.61\n",
       " San Francisco    8262203.91\n",
       " Seattle          2747755.48\n",
       "Name: Sales, dtype: float64"
      ]
     },
     "execution_count": 4,
     "metadata": {},
     "output_type": "execute_result"
    }
   ],
   "source": [
    "# How to group the data by 'City' and calculate the total sales for each city? \n",
    "group_by_city = df.groupby('City')['Sales'].sum()\n",
    "group_by_city"
   ]
  },
  {
   "cell_type": "code",
   "execution_count": 6,
   "metadata": {},
   "outputs": [
    {
     "data": {
      "text/plain": [
       "Product\n",
       "20in Monitor                   4129\n",
       "27in 4K Gaming Monitor         6244\n",
       "27in FHD Monitor               7550\n",
       "34in Ultrawide Monitor         6199\n",
       "AA Batteries (4-pack)         27635\n",
       "AAA Batteries (4-pack)        31017\n",
       "Apple Airpods Headphones      15661\n",
       "Bose SoundSport Headphones    13457\n",
       "Flatscreen TV                  4819\n",
       "Google Phone                   5532\n",
       "LG Dryer                        646\n",
       "LG Washing Machine              666\n",
       "Lightning Charging Cable      23217\n",
       "Macbook Pro Laptop             4728\n",
       "ThinkPad Laptop                4130\n",
       "USB-C Charging Cable          23975\n",
       "Vareebadd Phone                2068\n",
       "Wired Headphones              20557\n",
       "iPhone                         6849\n",
       "Name: Quantity Ordered, dtype: int64"
      ]
     },
     "execution_count": 6,
     "metadata": {},
     "output_type": "execute_result"
    }
   ],
   "source": [
    "# How to group the data by 'Product' and calculate the total quantity ordered for each product? \n",
    "group_by_product = df.groupby('Product')['Quantity Ordered'].sum()\n",
    "group_by_product"
   ]
  },
  {
   "cell_type": "code",
   "execution_count": 11,
   "metadata": {},
   "outputs": [
    {
     "data": {
      "text/plain": [
       "Month\n",
       "1     1822256.73\n",
       "2     2202022.42\n",
       "3     2807100.38\n",
       "4     3390670.24\n",
       "5     3152606.75\n",
       "6     2577802.26\n",
       "7     2647775.76\n",
       "8     2244467.88\n",
       "9     2097560.13\n",
       "10    3736726.88\n",
       "11    3199603.20\n",
       "12    4613443.34\n",
       "Name: Sales, dtype: float64"
      ]
     },
     "execution_count": 11,
     "metadata": {},
     "output_type": "execute_result"
    }
   ],
   "source": [
    "# How to group the data by 'Month' and calculate the average sales for each month? \n",
    "group_by_month = df.groupby('Month')['Sales'].sum()\n",
    "\n",
    "mean_of_month = (group_by_month / 12)\n",
    "mean_of_month"
   ]
  },
  {
   "cell_type": "code",
   "execution_count": 12,
   "metadata": {},
   "outputs": [
    {
     "data": {
      "text/plain": [
       "Hour\n",
       "0      713721.27\n",
       "1      460866.88\n",
       "2      234851.44\n",
       "3      145757.89\n",
       "4      162661.01\n",
       "5      230679.82\n",
       "6      448113.00\n",
       "7      744854.12\n",
       "8     1192348.97\n",
       "9     1639030.58\n",
       "10    1944286.77\n",
       "11    2300610.24\n",
       "12    2316821.34\n",
       "13    2155389.80\n",
       "14    2083672.73\n",
       "15    1941549.60\n",
       "16    1904601.31\n",
       "17    2129361.61\n",
       "18    2219348.30\n",
       "19    2412938.54\n",
       "20    2281716.24\n",
       "21    2042000.86\n",
       "22    1607549.21\n",
       "23    1179304.44\n",
       "Name: Sales, dtype: float64"
      ]
     },
     "execution_count": 12,
     "metadata": {},
     "output_type": "execute_result"
    }
   ],
   "source": [
    "# How to group the data by 'Hour' and find the total sales for each hour? \n",
    "group_by_hour = df.groupby('Hour')['Sales'].sum()\n",
    "group_by_hour"
   ]
  },
  {
   "cell_type": "code",
   "execution_count": 14,
   "metadata": {},
   "outputs": [
    {
     "data": {
      "text/plain": [
       "City\n",
       " Atlanta          14881\n",
       " Austin            9905\n",
       " Boston           19934\n",
       " Dallas           14820\n",
       " Los Angeles      29605\n",
       " New York City    24876\n",
       " Portland         12465\n",
       " San Francisco    44732\n",
       " Seattle          14732\n",
       "Name: Quantity Ordered, dtype: int64"
      ]
     },
     "execution_count": 14,
     "metadata": {},
     "output_type": "execute_result"
    }
   ],
   "source": [
    "# How to group the data by 'City' and count the number of orders in each city? \n",
    "group_by_number_of_orders = df.groupby('City')['Quantity Ordered'].count()\n",
    "group_by_number_of_orders\n"
   ]
  },
  {
   "cell_type": "code",
   "execution_count": 19,
   "metadata": {},
   "outputs": [
    {
     "data": {
      "text/plain": [
       "Product\n",
       "20in Monitor                   109.99\n",
       "27in 4K Gaming Monitor         389.99\n",
       "27in FHD Monitor               149.99\n",
       "34in Ultrawide Monitor         379.99\n",
       "AA Batteries (4-pack)            3.84\n",
       "AAA Batteries (4-pack)           2.99\n",
       "Apple Airpods Headphones       150.00\n",
       "Bose SoundSport Headphones      99.99\n",
       "Flatscreen TV                  300.00\n",
       "Google Phone                   600.00\n",
       "LG Dryer                       600.00\n",
       "LG Washing Machine             600.00\n",
       "Lightning Charging Cable        14.95\n",
       "Macbook Pro Laptop            1700.00\n",
       "ThinkPad Laptop                999.99\n",
       "USB-C Charging Cable            11.95\n",
       "Vareebadd Phone                400.00\n",
       "Wired Headphones                11.99\n",
       "iPhone                         700.00\n",
       "Name: Price Each, dtype: float64"
      ]
     },
     "execution_count": 19,
     "metadata": {},
     "output_type": "execute_result"
    }
   ],
   "source": [
    "# How to group the data by 'Product' and find the highest price each for each product? \n",
    "group_by_higest_price_of_product = df.groupby('Product')['Price Each'].max()\n",
    "group_by_higest_price_of_product\n"
   ]
  },
  {
   "cell_type": "code",
   "execution_count": 20,
   "metadata": {},
   "outputs": [
    {
     "data": {
      "text/plain": [
       "City\n",
       " Atlanta          1.115651\n",
       " Austin           1.125997\n",
       " Boston           1.130129\n",
       " Dallas           1.128880\n",
       " Los Angeles      1.124438\n",
       " New York City    1.122849\n",
       " Portland         1.127397\n",
       " San Francisco    1.123111\n",
       " Seattle          1.123608\n",
       "Name: Quantity Ordered, dtype: float64"
      ]
     },
     "execution_count": 20,
     "metadata": {},
     "output_type": "execute_result"
    }
   ],
   "source": [
    "# How to group the data by 'City' and calculate the average quantity ordered in each city? \n",
    "mean_of_quantity_ordered = df.groupby('City')['Quantity Ordered'].mean()\n",
    "mean_of_quantity_ordered"
   ]
  },
  {
   "cell_type": "code",
   "execution_count": 26,
   "metadata": {},
   "outputs": [
    {
     "data": {
      "text/plain": [
       "Month\n",
       "12    4613443.34\n",
       "10    3736726.88\n",
       "4     3390670.24\n",
       "11    3199603.20\n",
       "5     3152606.75\n",
       "3     2807100.38\n",
       "7     2647775.76\n",
       "6     2577802.26\n",
       "8     2244467.88\n",
       "2     2202022.42\n",
       "9     2097560.13\n",
       "1     1822256.73\n",
       "Name: Sales, dtype: float64"
      ]
     },
     "execution_count": 26,
     "metadata": {},
     "output_type": "execute_result"
    }
   ],
   "source": [
    "# How to group the data by 'Month' and find the month with the highest total sales? \n",
    "group_by_higest_total_sales_month = df.groupby('Month')['Sales'].sum()\n",
    "group_by_higest_total_sales_month.sort_values(ascending=False)\n"
   ]
  },
  {
   "cell_type": "code",
   "execution_count": 29,
   "metadata": {},
   "outputs": [
    {
     "data": {
      "text/plain": [
       "Hour\n",
       "0     182.537409\n",
       "1     196.113566\n",
       "2     188.939212\n",
       "3     175.400590\n",
       "4     190.469567\n",
       "5     174.625148\n",
       "6     180.545125\n",
       "7     185.702847\n",
       "8     190.592866\n",
       "9     187.360606\n",
       "10    177.657782\n",
       "11    185.368644\n",
       "12    184.064617\n",
       "13    177.705483\n",
       "14    189.700722\n",
       "15    190.815686\n",
       "16    183.416921\n",
       "17    195.372200\n",
       "18    180.728689\n",
       "19    186.977028\n",
       "20    186.597664\n",
       "21    186.979293\n",
       "22    182.220495\n",
       "23    187.936963\n",
       "Name: Sales, dtype: float64"
      ]
     },
     "execution_count": 29,
     "metadata": {},
     "output_type": "execute_result"
    }
   ],
   "source": [
    "# How to group the data by 'Hour' and calculate the average sales for each hour? \n",
    "group_by_avg_sales_per_hour = df.groupby('Hour')['Sales'].mean()\n",
    "group_by_avg_sales_per_hour"
   ]
  },
  {
   "cell_type": "code",
   "execution_count": 31,
   "metadata": {},
   "outputs": [
    {
     "data": {
      "text/plain": [
       "City\n",
       " Austin           1819581.75\n",
       " Portland         2320490.61\n",
       " Seattle          2747755.48\n",
       " Dallas           2767975.40\n",
       " Atlanta          2795498.58\n",
       " Boston           3661642.01\n",
       " New York City    4664317.43\n",
       " Los Angeles      5452570.80\n",
       " San Francisco    8262203.91\n",
       "Name: Sales, dtype: float64"
      ]
     },
     "execution_count": 31,
     "metadata": {},
     "output_type": "execute_result"
    }
   ],
   "source": [
    "# How to group the data by 'City' and find the city with the lowest total sales? \n",
    "group_by_city_and_sales = df.groupby('City')['Sales'].sum()\n",
    "group_by_city_and_sales.sort_values(ascending=True)"
   ]
  },
  {
   "cell_type": "code",
   "execution_count": 32,
   "metadata": {},
   "outputs": [
    {
     "data": {
      "text/plain": [
       "Product\n",
       "20in Monitor                   454148.71\n",
       "27in 4K Gaming Monitor        2435097.56\n",
       "27in FHD Monitor              1132424.50\n",
       "34in Ultrawide Monitor        2355558.01\n",
       "AA Batteries (4-pack)          106118.40\n",
       "AAA Batteries (4-pack)          92740.83\n",
       "Apple Airpods Headphones      2349150.00\n",
       "Bose SoundSport Headphones    1345565.43\n",
       "Flatscreen TV                 1445700.00\n",
       "Google Phone                  3319200.00\n",
       "LG Dryer                       387600.00\n",
       "LG Washing Machine             399600.00\n",
       "Lightning Charging Cable       347094.15\n",
       "Macbook Pro Laptop            8037600.00\n",
       "ThinkPad Laptop               4129958.70\n",
       "USB-C Charging Cable           286501.25\n",
       "Vareebadd Phone                827200.00\n",
       "Wired Headphones               246478.43\n",
       "iPhone                        4794300.00\n",
       "Name: Sales, dtype: float64"
      ]
     },
     "execution_count": 32,
     "metadata": {},
     "output_type": "execute_result"
    }
   ],
   "source": [
    "# How to group the data by 'Product' and calculate the total revenue generated for each product? \n",
    "group_by_product_revenue = df.groupby('Product')['Sales'].sum()\n",
    "group_by_product_revenue"
   ]
  },
  {
   "cell_type": "code",
   "execution_count": 41,
   "metadata": {},
   "outputs": [
    {
     "data": {
      "text/plain": [
       "City      Product               \n",
       " Atlanta  20in Monitor              111.291657\n",
       "          27in 4K Gaming Monitor    390.782663\n",
       "          27in FHD Monitor          151.017329\n",
       "          34in Ultrawide Monitor    383.169833\n",
       "          AA Batteries (4-pack)       5.069910\n",
       "                                       ...    \n",
       " Seattle  ThinkPad Laptop           999.990000\n",
       "          USB-C Charging Cable       13.107130\n",
       "          Vareebadd Phone           400.000000\n",
       "          Wired Headphones           13.126229\n",
       "          iPhone                    701.284404\n",
       "Name: Sales, Length: 171, dtype: float64"
      ]
     },
     "execution_count": 41,
     "metadata": {},
     "output_type": "execute_result"
    }
   ],
   "source": [
    "# How to group the data by 'City' and calculate the average price each in each city? \n",
    "group_by_city_avg_sales = df.groupby(['City' , 'Product'])['Sales'].mean()\n",
    "group_by_city_avg_sales\n"
   ]
  },
  {
   "cell_type": "code",
   "execution_count": 42,
   "metadata": {},
   "outputs": [
    {
     "data": {
      "text/plain": [
       "Month\n",
       "1     10903\n",
       "2     13449\n",
       "3     17005\n",
       "4     20558\n",
       "5     18667\n",
       "6     15253\n",
       "7     16072\n",
       "8     13448\n",
       "9     13109\n",
       "10    22703\n",
       "11    19798\n",
       "12    28114\n",
       "Name: Quantity Ordered, dtype: int64"
      ]
     },
     "execution_count": 42,
     "metadata": {},
     "output_type": "execute_result"
    }
   ],
   "source": [
    "# How to group the data by 'Month' and find the total quantity ordered for each month? \n",
    "group_by_month_and_QO = df.groupby('Month')['Quantity Ordered'].sum()\n",
    "group_by_month_and_QO"
   ]
  },
  {
   "cell_type": "code",
   "execution_count": 43,
   "metadata": {},
   "outputs": [
    {
     "data": {
      "text/plain": [
       "Hour\n",
       "0      4428\n",
       "1      2619\n",
       "2      1398\n",
       "3       928\n",
       "4       937\n",
       "5      1493\n",
       "6      2810\n",
       "7      4556\n",
       "8      7002\n",
       "9      9816\n",
       "10    12308\n",
       "11    14005\n",
       "12    14202\n",
       "13    13685\n",
       "14    12362\n",
       "15    11391\n",
       "16    11662\n",
       "17    12229\n",
       "18    13802\n",
       "19    14470\n",
       "20    13768\n",
       "21    12244\n",
       "22     9899\n",
       "23     7065\n",
       "Name: Quantity Ordered, dtype: int64"
      ]
     },
     "execution_count": 43,
     "metadata": {},
     "output_type": "execute_result"
    }
   ],
   "source": [
    "# How to group the data by 'Hour' and calculate the total quantity ordered for each hour? \n",
    "group_by_hour_and_QO = df.groupby('Hour')[\"Quantity Ordered\"].sum()\n",
    "group_by_hour_and_QO"
   ]
  },
  {
   "cell_type": "code",
   "execution_count": 75,
   "metadata": {},
   "outputs": [
    {
     "data": {
      "text/html": [
       "<div>\n",
       "<style scoped>\n",
       "    .dataframe tbody tr th:only-of-type {\n",
       "        vertical-align: middle;\n",
       "    }\n",
       "\n",
       "    .dataframe tbody tr th {\n",
       "        vertical-align: top;\n",
       "    }\n",
       "\n",
       "    .dataframe thead th {\n",
       "        text-align: right;\n",
       "    }\n",
       "</style>\n",
       "<table border=\"1\" class=\"dataframe\">\n",
       "  <thead>\n",
       "    <tr style=\"text-align: right;\">\n",
       "      <th></th>\n",
       "      <th>City</th>\n",
       "      <th>Product</th>\n",
       "      <th>Quantity Ordered</th>\n",
       "    </tr>\n",
       "  </thead>\n",
       "  <tbody>\n",
       "    <tr>\n",
       "      <th>11</th>\n",
       "      <td>Atlanta</td>\n",
       "      <td>LG Washing Machine</td>\n",
       "      <td>52</td>\n",
       "    </tr>\n",
       "    <tr>\n",
       "      <th>30</th>\n",
       "      <td>Austin</td>\n",
       "      <td>LG Washing Machine</td>\n",
       "      <td>26</td>\n",
       "    </tr>\n",
       "    <tr>\n",
       "      <th>48</th>\n",
       "      <td>Boston</td>\n",
       "      <td>LG Dryer</td>\n",
       "      <td>59</td>\n",
       "    </tr>\n",
       "    <tr>\n",
       "      <th>67</th>\n",
       "      <td>Dallas</td>\n",
       "      <td>LG Dryer</td>\n",
       "      <td>44</td>\n",
       "    </tr>\n",
       "    <tr>\n",
       "      <th>87</th>\n",
       "      <td>Los Angeles</td>\n",
       "      <td>LG Washing Machine</td>\n",
       "      <td>105</td>\n",
       "    </tr>\n",
       "    <tr>\n",
       "      <th>105</th>\n",
       "      <td>New York City</td>\n",
       "      <td>LG Dryer</td>\n",
       "      <td>77</td>\n",
       "    </tr>\n",
       "    <tr>\n",
       "      <th>124</th>\n",
       "      <td>Portland</td>\n",
       "      <td>LG Dryer</td>\n",
       "      <td>37</td>\n",
       "    </tr>\n",
       "    <tr>\n",
       "      <th>143</th>\n",
       "      <td>San Francisco</td>\n",
       "      <td>LG Dryer</td>\n",
       "      <td>143</td>\n",
       "    </tr>\n",
       "    <tr>\n",
       "      <th>162</th>\n",
       "      <td>Seattle</td>\n",
       "      <td>LG Dryer</td>\n",
       "      <td>56</td>\n",
       "    </tr>\n",
       "  </tbody>\n",
       "</table>\n",
       "</div>"
      ],
      "text/plain": [
       "               City             Product  Quantity Ordered\n",
       "11          Atlanta  LG Washing Machine                52\n",
       "30           Austin  LG Washing Machine                26\n",
       "48           Boston            LG Dryer                59\n",
       "67           Dallas            LG Dryer                44\n",
       "87      Los Angeles  LG Washing Machine               105\n",
       "105   New York City            LG Dryer                77\n",
       "124        Portland            LG Dryer                37\n",
       "143   San Francisco            LG Dryer               143\n",
       "162         Seattle            LG Dryer                56"
      ]
     },
     "execution_count": 75,
     "metadata": {},
     "output_type": "execute_result"
    }
   ],
   "source": [
    "# How to group the data by 'City' and find the most frequently ordered product in each city? \n",
    "grouped = df.groupby(['City', 'Product'])['Quantity Ordered'].sum().reset_index()\n",
    "grouped = grouped.sort_values(by=['City', 'Quantity Ordered'] )\n",
    "grouped\n",
    "most_ordered_per_city = grouped.drop_duplicates(subset='City', keep='first')\n",
    "most_ordered_per_city"
   ]
  },
  {
   "cell_type": "markdown",
   "metadata": {},
   "source": []
  },
  {
   "cell_type": "code",
   "execution_count": 79,
   "metadata": {},
   "outputs": [
    {
     "name": "stdout",
     "output_type": "stream",
     "text": [
      "Product\n",
      "20in Monitor                   110.740968\n",
      "27in 4K Gaming Monitor         390.866382\n",
      "27in FHD Monitor               150.849141\n",
      "34in Ultrawide Monitor         381.096588\n",
      "AA Batteries (4-pack)            5.157137\n",
      "AAA Batteries (4-pack)           4.493040\n",
      "Apple Airpods Headphones       151.080455\n",
      "Bose SoundSport Headphones     100.980520\n",
      "Flatscreen TV                  301.187500\n",
      "Google Phone                   600.760181\n",
      "LG Dryer                       600.000000\n",
      "LG Washing Machine             600.000000\n",
      "Lightning Charging Cable        16.026140\n",
      "Macbook Pro Laptop            1701.439458\n",
      "ThinkPad Laptop               1000.474491\n",
      "USB-C Charging Cable            13.080457\n",
      "Vareebadd Phone                400.581114\n",
      "Wired Headphones                13.053619\n",
      "iPhone                         700.716165\n",
      "Name: Sales, dtype: float64\n"
     ]
    }
   ],
   "source": [
    "# How to group the data by 'Product' and calculate the average sales for each product? \n",
    "# Group by 'Product' and calculate the average sales\n",
    "group_by_product_avg_sales = df.groupby('Product')['Sales'].mean()\n",
    "print(group_by_product_avg_sales)\n"
   ]
  },
  {
   "cell_type": "code",
   "execution_count": 92,
   "metadata": {},
   "outputs": [
    {
     "data": {
      "text/plain": [
       "Hour       1.000000\n",
       "Sales    196.113566\n",
       "Name: 1, dtype: float64"
      ]
     },
     "execution_count": 92,
     "metadata": {},
     "output_type": "execute_result"
    }
   ],
   "source": [
    "# How to group the data by 'Hour' and find the hour with the highest average sales?\n",
    "group_by_hour_avg_sales = df.groupby('Hour')['Sales'].mean().reset_index()\n",
    "# group_by_hour_avg_sales\n",
    "highest_avg_sales_hour = group_by_hour_avg_sales.loc[group_by_hour_avg_sales['Sales'].idxmax()]\n",
    "highest_avg_sales_hour\n"
   ]
  },
  {
   "cell_type": "code",
   "execution_count": 93,
   "metadata": {},
   "outputs": [
    {
     "data": {
      "text/plain": [
       "Month      5.000000\n",
       "Sales    190.305852\n",
       "Name: 4, dtype: float64"
      ]
     },
     "execution_count": 93,
     "metadata": {},
     "output_type": "execute_result"
    }
   ],
   "source": [
    "# How to group the data by 'Month' and find the month with the lowest total sales? \n",
    "group_by_month_avg_sales = df.groupby('Month')['Sales'].mean().reset_index()\n",
    "group_by_month_avg_sales\n",
    "lowest_avg_sales_month = group_by_month_avg_sales.loc[group_by_month_avg_sales['Sales'].idxmax()]\n",
    "lowest_avg_sales_month"
   ]
  },
  {
   "cell_type": "code",
   "execution_count": 97,
   "metadata": {},
   "outputs": [
    {
     "data": {
      "text/plain": [
       "City\n",
       " Atlanta          19\n",
       " Austin           19\n",
       " Boston           19\n",
       " Dallas           19\n",
       " Los Angeles      19\n",
       " New York City    19\n",
       " Portland         19\n",
       " San Francisco    19\n",
       " Seattle          19\n",
       "Name: Product, dtype: int64"
      ]
     },
     "execution_count": 97,
     "metadata": {},
     "output_type": "execute_result"
    }
   ],
   "source": [
    "# How to group the data by 'City' and calculate the total number of different products ordered in each city? \n",
    "group_by_city_unique_products = df.groupby('City')['Product'].nunique()\n",
    "group_by_city_unique_products\n"
   ]
  },
  {
   "cell_type": "code",
   "execution_count": 103,
   "metadata": {},
   "outputs": [
    {
     "name": "stdout",
     "output_type": "stream",
     "text": [
      "Product    Macbook Pro Laptop\n",
      "Sales             1701.439458\n",
      "Name: 13, dtype: object\n"
     ]
    }
   ],
   "source": [
    "# How to group the data by 'Product' and find the product with the highest average sales?\n",
    "group_by_product_avg_sales = df.groupby('Product')['Sales'].mean().reset_index()\n",
    "\n",
    "highest_avg_sales_product = group_by_product_avg_sales.loc[group_by_product_avg_sales['Sales'].idxmax()]\n",
    "print(highest_avg_sales_product)\n"
   ]
  },
  {
   "cell_type": "code",
   "execution_count": 104,
   "metadata": {},
   "outputs": [
    {
     "data": {
      "text/plain": [
       "City      Product               \n",
       " Atlanta  20in Monitor               338\n",
       "          27in 4K Gaming Monitor     492\n",
       "          27in FHD Monitor           584\n",
       "          34in Ultrawide Monitor     478\n",
       "          AA Batteries (4-pack)     1661\n",
       "                                    ... \n",
       " Seattle  ThinkPad Laptop            333\n",
       "          USB-C Charging Cable      1704\n",
       "          Vareebadd Phone            179\n",
       "          Wired Headphones          1509\n",
       "          iPhone                     545\n",
       "Name: Sales, Length: 171, dtype: int64"
      ]
     },
     "execution_count": 104,
     "metadata": {},
     "output_type": "execute_result"
    }
   ],
   "source": [
    "# How to group the data by 'Product' and 'City' and find the total quantity ordered for each product in each city?\n",
    "group_by_city_Product_sales = df.groupby(['City', 'Product'])['Sales'].count()\n",
    "group_by_city_Product_sales\n",
    "\n"
   ]
  },
  {
   "cell_type": "code",
   "execution_count": 105,
   "metadata": {},
   "outputs": [
    {
     "data": {
      "text/plain": [
       "Month  Hour\n",
       "1      0       195.050046\n",
       "       1       205.380417\n",
       "       2       220.012125\n",
       "       3       183.749730\n",
       "       4       133.714583\n",
       "                  ...    \n",
       "12     19      180.499246\n",
       "       20      196.474190\n",
       "       21      180.348545\n",
       "       22      180.171290\n",
       "       23      184.262777\n",
       "Name: Sales, Length: 288, dtype: float64"
      ]
     },
     "execution_count": 105,
     "metadata": {},
     "output_type": "execute_result"
    }
   ],
   "source": [
    "# How to group the data by 'Month' and 'Hour' and calculate the average sales for each combination?\n",
    "group_by_month_hour = df.groupby(['Month','Hour'])['Sales'].mean()\n",
    "group_by_month_hour"
   ]
  },
  {
   "cell_type": "code",
   "execution_count": 107,
   "metadata": {},
   "outputs": [
    {
     "data": {
      "text/plain": [
       "City      Hour\n",
       " Atlanta  0        62855.02\n",
       "          1        44443.32\n",
       "          2        25211.14\n",
       "          3         7018.49\n",
       "          4        18954.97\n",
       "                    ...    \n",
       " Seattle  19      183817.61\n",
       "          20      168681.88\n",
       "          21      171082.96\n",
       "          22      136919.63\n",
       "          23      102794.00\n",
       "Name: Sales, Length: 216, dtype: float64"
      ]
     },
     "execution_count": 107,
     "metadata": {},
     "output_type": "execute_result"
    }
   ],
   "source": [
    "# How to group the data by 'City' and 'Hour' and find the total sales for each combination?\n",
    "group_by_city_hour = df.groupby(['City','Hour'])['Sales'].sum()\n",
    "group_by_city_hour"
   ]
  },
  {
   "cell_type": "code",
   "execution_count": 109,
   "metadata": {},
   "outputs": [
    {
     "data": {
      "text/plain": [
       "Product       Month\n",
       "20in Monitor  1         23977.82\n",
       "              2         27057.54\n",
       "              3         35856.74\n",
       "              4         43226.07\n",
       "              5         37506.59\n",
       "                         ...    \n",
       "iPhone        8        307300.00\n",
       "              9        277900.00\n",
       "              10       501200.00\n",
       "              11       465500.00\n",
       "              12       634200.00\n",
       "Name: Sales, Length: 228, dtype: float64"
      ]
     },
     "execution_count": 109,
     "metadata": {},
     "output_type": "execute_result"
    }
   ],
   "source": [
    "# How to group the data by 'Product' and 'Month' and calculate the total revenue generated for each combination?\n",
    "group_by_product_month = df.groupby(['Product','Month'])['Sales'].sum()\n",
    "group_by_product_month"
   ]
  },
  {
   "cell_type": "code",
   "execution_count": null,
   "metadata": {},
   "outputs": [],
   "source": []
  }
 ],
 "metadata": {
  "kernelspec": {
   "display_name": "Python 3",
   "language": "python",
   "name": "python3"
  },
  "language_info": {
   "codemirror_mode": {
    "name": "ipython",
    "version": 3
   },
   "file_extension": ".py",
   "mimetype": "text/x-python",
   "name": "python",
   "nbconvert_exporter": "python",
   "pygments_lexer": "ipython3",
   "version": "3.10.12"
  }
 },
 "nbformat": 4,
 "nbformat_minor": 2
}
